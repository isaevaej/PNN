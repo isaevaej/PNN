{
 "cells": [
  {
   "cell_type": "markdown",
   "metadata": {
    "papermill": {
     "duration": 0.023988,
     "end_time": "2024-03-07T16:43:39.486143",
     "exception": false,
     "start_time": "2024-03-07T16:43:39.462155",
     "status": "completed"
    },
    "tags": []
   },
   "source": [
    "## Решение задачи регрессии с помощью нейронных сетей\n",
    "\n",
    "Определение стоимости недвижимости из набора данных [California Housing Data Set](https://developers.google.com/machine-learning/crash-course/california-housing-data-description).\n",
    "\n",
    "Учебный курс \"[Программирование глубоких нейронных сетей на Python](https://openedu.ru/course/urfu/PYDNN/)\"."
   ]
  },
  {
   "cell_type": "code",
   "execution_count": 1,
   "metadata": {
    "execution": {
     "iopub.execute_input": "2024-03-07T16:43:39.543137Z",
     "iopub.status.busy": "2024-03-07T16:43:39.534713Z",
     "iopub.status.idle": "2024-03-07T16:43:47.506656Z",
     "shell.execute_reply": "2024-03-07T16:43:47.507396Z",
     "shell.execute_reply.started": "2024-03-07T16:42:33.189062Z"
    },
    "papermill": {
     "duration": 7.998486,
     "end_time": "2024-03-07T16:43:47.507879",
     "exception": false,
     "start_time": "2024-03-07T16:43:39.509393",
     "status": "completed"
    },
    "tags": []
   },
   "outputs": [
    {
     "name": "stdout",
     "output_type": "stream",
     "text": [
      "/kaggle/input/dl-urfu-regression/sample_submission.csv\n",
      "/kaggle/input/dl-urfu-regression/train.csv\n",
      "/kaggle/input/dl-urfu-regression/test.csv\n"
     ]
    }
   ],
   "source": [
    "from tensorflow.keras.models import Sequential\n",
    "from tensorflow.keras.layers import Dense, Dropout\n",
    "from tensorflow.keras.optimizers import Adam\n",
    "import tensorflow as tf\n",
    "import pandas as pd\n",
    "import numpy as np\n",
    "import matplotlib.pyplot as plt\n",
    "%matplotlib inline \n",
    "\"\"\" посмотрим, какие файлы храняться в директории \"\"\"\n",
    "import os\n",
    "for dirname, _, filenames in os.walk('/kaggle/input/'):\n",
    "    for filename in filenames:\n",
    "        print(os.path.join(dirname, filename))"
   ]
  },
  {
   "cell_type": "markdown",
   "metadata": {
    "papermill": {
     "duration": 0.021942,
     "end_time": "2024-03-07T16:43:47.555207",
     "exception": false,
     "start_time": "2024-03-07T16:43:47.533265",
     "status": "completed"
    },
    "tags": []
   },
   "source": [
    "## Загружаем данные"
   ]
  },
  {
   "cell_type": "code",
   "execution_count": 2,
   "metadata": {
    "execution": {
     "iopub.execute_input": "2024-03-07T16:43:47.607474Z",
     "iopub.status.busy": "2024-03-07T16:43:47.606636Z",
     "iopub.status.idle": "2024-03-07T16:43:47.688931Z",
     "shell.execute_reply": "2024-03-07T16:43:47.688228Z",
     "shell.execute_reply.started": "2024-03-07T16:42:33.212104Z"
    },
    "papermill": {
     "duration": 0.110999,
     "end_time": "2024-03-07T16:43:47.689158",
     "exception": false,
     "start_time": "2024-03-07T16:43:47.578159",
     "status": "completed"
    },
    "tags": []
   },
   "outputs": [],
   "source": [
    "train_df = pd.read_csv('/kaggle/input/dl-urfu-regression/train.csv')\n",
    "test_df = pd.read_csv('/kaggle/input/dl-urfu-regression/test.csv')\n",
    "sample_submission = pd.read_csv('/kaggle/input/dl-urfu-regression/sample_submission.csv', index_col='id')"
   ]
  },
  {
   "cell_type": "markdown",
   "metadata": {
    "papermill": {
     "duration": 0.022241,
     "end_time": "2024-03-07T16:43:47.734094",
     "exception": false,
     "start_time": "2024-03-07T16:43:47.711853",
     "status": "completed"
    },
    "tags": []
   },
   "source": [
    "**Описание данных**\n",
    "\n",
    "California Housing содержит данные о средней стоимость домов в Калифорнии для квартала. Файл с данными содержит следующие столбцы:\n",
    "\n",
    "*   **longitude** - долгота квартала с недвижимостью.\n",
    "*   **latitude** - широта квартала с недвижимостью.\n",
    "*   **housing_median_age** - медиана возраста домов в квартале.\n",
    "*   **total_rooms** - общее колиичество комнат в квартале.\n",
    "*   **total_bedrooms** - общее количество спален в квартале.\n",
    "*   **population** - население квартала.\n",
    "*   **households** - количество \"домохозяйств\" в квартале (групп людей живущих вместе в одном доме. Как правило это семьи).\n",
    "*   **median_income** - медианный доход в квартале.\n",
    "*   **median_house_value** - медианная стоимость дома в квартале.\n",
    "\n"
   ]
  },
  {
   "cell_type": "code",
   "execution_count": 3,
   "metadata": {
    "execution": {
     "iopub.execute_input": "2024-03-07T16:43:47.787280Z",
     "iopub.status.busy": "2024-03-07T16:43:47.785809Z",
     "iopub.status.idle": "2024-03-07T16:43:47.823097Z",
     "shell.execute_reply": "2024-03-07T16:43:47.821508Z",
     "shell.execute_reply.started": "2024-03-07T16:42:33.263097Z"
    },
    "papermill": {
     "duration": 0.065181,
     "end_time": "2024-03-07T16:43:47.823381",
     "exception": false,
     "start_time": "2024-03-07T16:43:47.758200",
     "status": "completed"
    },
    "tags": []
   },
   "outputs": [
    {
     "data": {
      "text/html": [
       "<div>\n",
       "<style scoped>\n",
       "    .dataframe tbody tr th:only-of-type {\n",
       "        vertical-align: middle;\n",
       "    }\n",
       "\n",
       "    .dataframe tbody tr th {\n",
       "        vertical-align: top;\n",
       "    }\n",
       "\n",
       "    .dataframe thead th {\n",
       "        text-align: right;\n",
       "    }\n",
       "</style>\n",
       "<table border=\"1\" class=\"dataframe\">\n",
       "  <thead>\n",
       "    <tr style=\"text-align: right;\">\n",
       "      <th></th>\n",
       "      <th>longitude</th>\n",
       "      <th>latitude</th>\n",
       "      <th>housing_median_age</th>\n",
       "      <th>total_rooms</th>\n",
       "      <th>total_bedrooms</th>\n",
       "      <th>population</th>\n",
       "      <th>households</th>\n",
       "      <th>median_income</th>\n",
       "      <th>median_house_value</th>\n",
       "    </tr>\n",
       "  </thead>\n",
       "  <tbody>\n",
       "    <tr>\n",
       "      <th>5592</th>\n",
       "      <td>-119.67</td>\n",
       "      <td>36.83</td>\n",
       "      <td>4.0</td>\n",
       "      <td>2145.0</td>\n",
       "      <td>334.0</td>\n",
       "      <td>1024.0</td>\n",
       "      <td>308.0</td>\n",
       "      <td>5.0864</td>\n",
       "      <td>113700.0</td>\n",
       "    </tr>\n",
       "    <tr>\n",
       "      <th>3712</th>\n",
       "      <td>-122.25</td>\n",
       "      <td>37.80</td>\n",
       "      <td>41.0</td>\n",
       "      <td>1471.0</td>\n",
       "      <td>469.0</td>\n",
       "      <td>1062.0</td>\n",
       "      <td>413.0</td>\n",
       "      <td>1.6121</td>\n",
       "      <td>171400.0</td>\n",
       "    </tr>\n",
       "    <tr>\n",
       "      <th>13920</th>\n",
       "      <td>-122.11</td>\n",
       "      <td>37.31</td>\n",
       "      <td>7.0</td>\n",
       "      <td>189.0</td>\n",
       "      <td>26.0</td>\n",
       "      <td>84.0</td>\n",
       "      <td>29.0</td>\n",
       "      <td>13.8093</td>\n",
       "      <td>500001.0</td>\n",
       "    </tr>\n",
       "  </tbody>\n",
       "</table>\n",
       "</div>"
      ],
      "text/plain": [
       "       longitude  latitude  housing_median_age  total_rooms  total_bedrooms  \\\n",
       "5592     -119.67     36.83                 4.0       2145.0           334.0   \n",
       "3712     -122.25     37.80                41.0       1471.0           469.0   \n",
       "13920    -122.11     37.31                 7.0        189.0            26.0   \n",
       "\n",
       "       population  households  median_income  median_house_value  \n",
       "5592       1024.0       308.0         5.0864            113700.0  \n",
       "3712       1062.0       413.0         1.6121            171400.0  \n",
       "13920        84.0        29.0        13.8093            500001.0  "
      ]
     },
     "execution_count": 3,
     "metadata": {},
     "output_type": "execute_result"
    }
   ],
   "source": [
    "\"\"\"Смотрим на случайные 3 записи в нашем тренировочном наборе\"\"\"\n",
    "train_df.sample(3)"
   ]
  },
  {
   "cell_type": "code",
   "execution_count": 4,
   "metadata": {
    "execution": {
     "iopub.execute_input": "2024-03-07T16:43:47.899832Z",
     "iopub.status.busy": "2024-03-07T16:43:47.898456Z",
     "iopub.status.idle": "2024-03-07T16:43:47.921415Z",
     "shell.execute_reply": "2024-03-07T16:43:47.922501Z",
     "shell.execute_reply.started": "2024-03-07T16:42:33.286054Z"
    },
    "papermill": {
     "duration": 0.064993,
     "end_time": "2024-03-07T16:43:47.922852",
     "exception": false,
     "start_time": "2024-03-07T16:43:47.857859",
     "status": "completed"
    },
    "tags": []
   },
   "outputs": [
    {
     "data": {
      "text/html": [
       "<div>\n",
       "<style scoped>\n",
       "    .dataframe tbody tr th:only-of-type {\n",
       "        vertical-align: middle;\n",
       "    }\n",
       "\n",
       "    .dataframe tbody tr th {\n",
       "        vertical-align: top;\n",
       "    }\n",
       "\n",
       "    .dataframe thead th {\n",
       "        text-align: right;\n",
       "    }\n",
       "</style>\n",
       "<table border=\"1\" class=\"dataframe\">\n",
       "  <thead>\n",
       "    <tr style=\"text-align: right;\">\n",
       "      <th></th>\n",
       "      <th>longitude</th>\n",
       "      <th>latitude</th>\n",
       "      <th>housing_median_age</th>\n",
       "      <th>total_rooms</th>\n",
       "      <th>total_bedrooms</th>\n",
       "      <th>population</th>\n",
       "      <th>households</th>\n",
       "      <th>median_income</th>\n",
       "    </tr>\n",
       "  </thead>\n",
       "  <tbody>\n",
       "    <tr>\n",
       "      <th>788</th>\n",
       "      <td>-118.14</td>\n",
       "      <td>33.84</td>\n",
       "      <td>45.0</td>\n",
       "      <td>1908.0</td>\n",
       "      <td>361.0</td>\n",
       "      <td>890.0</td>\n",
       "      <td>342.0</td>\n",
       "      <td>4.5750</td>\n",
       "    </tr>\n",
       "    <tr>\n",
       "      <th>1736</th>\n",
       "      <td>-121.30</td>\n",
       "      <td>38.02</td>\n",
       "      <td>16.0</td>\n",
       "      <td>2717.0</td>\n",
       "      <td>621.0</td>\n",
       "      <td>3343.0</td>\n",
       "      <td>643.0</td>\n",
       "      <td>2.5473</td>\n",
       "    </tr>\n",
       "    <tr>\n",
       "      <th>2665</th>\n",
       "      <td>-122.09</td>\n",
       "      <td>37.38</td>\n",
       "      <td>34.0</td>\n",
       "      <td>1959.0</td>\n",
       "      <td>342.0</td>\n",
       "      <td>849.0</td>\n",
       "      <td>357.0</td>\n",
       "      <td>6.2884</td>\n",
       "    </tr>\n",
       "  </tbody>\n",
       "</table>\n",
       "</div>"
      ],
      "text/plain": [
       "      longitude  latitude  housing_median_age  total_rooms  total_bedrooms  \\\n",
       "788     -118.14     33.84                45.0       1908.0           361.0   \n",
       "1736    -121.30     38.02                16.0       2717.0           621.0   \n",
       "2665    -122.09     37.38                34.0       1959.0           342.0   \n",
       "\n",
       "      population  households  median_income  \n",
       "788        890.0       342.0         4.5750  \n",
       "1736      3343.0       643.0         2.5473  \n",
       "2665       849.0       357.0         6.2884  "
      ]
     },
     "execution_count": 4,
     "metadata": {},
     "output_type": "execute_result"
    }
   ],
   "source": [
    "\"\"\"Смотрим на случайные 3 записи в нашем тестовом наборе\"\"\"\n",
    "test_df.sample(3)"
   ]
  },
  {
   "cell_type": "code",
   "execution_count": 5,
   "metadata": {
    "execution": {
     "iopub.execute_input": "2024-03-07T16:43:47.987182Z",
     "iopub.status.busy": "2024-03-07T16:43:47.986051Z",
     "iopub.status.idle": "2024-03-07T16:43:47.991817Z",
     "shell.execute_reply": "2024-03-07T16:43:47.991158Z",
     "shell.execute_reply.started": "2024-03-07T16:42:33.312126Z"
    },
    "papermill": {
     "duration": 0.044165,
     "end_time": "2024-03-07T16:43:47.991996",
     "exception": false,
     "start_time": "2024-03-07T16:43:47.947831",
     "status": "completed"
    },
    "tags": []
   },
   "outputs": [
    {
     "data": {
      "text/html": [
       "<div>\n",
       "<style scoped>\n",
       "    .dataframe tbody tr th:only-of-type {\n",
       "        vertical-align: middle;\n",
       "    }\n",
       "\n",
       "    .dataframe tbody tr th {\n",
       "        vertical-align: top;\n",
       "    }\n",
       "\n",
       "    .dataframe thead th {\n",
       "        text-align: right;\n",
       "    }\n",
       "</style>\n",
       "<table border=\"1\" class=\"dataframe\">\n",
       "  <thead>\n",
       "    <tr style=\"text-align: right;\">\n",
       "      <th></th>\n",
       "      <th>median_house_value</th>\n",
       "    </tr>\n",
       "    <tr>\n",
       "      <th>id</th>\n",
       "      <th></th>\n",
       "    </tr>\n",
       "  </thead>\n",
       "  <tbody>\n",
       "    <tr>\n",
       "      <th>2767</th>\n",
       "      <td>0.2767</td>\n",
       "    </tr>\n",
       "    <tr>\n",
       "      <th>2191</th>\n",
       "      <td>0.2191</td>\n",
       "    </tr>\n",
       "    <tr>\n",
       "      <th>1461</th>\n",
       "      <td>0.1461</td>\n",
       "    </tr>\n",
       "  </tbody>\n",
       "</table>\n",
       "</div>"
      ],
      "text/plain": [
       "      median_house_value\n",
       "id                      \n",
       "2767              0.2767\n",
       "2191              0.2191\n",
       "1461              0.1461"
      ]
     },
     "execution_count": 5,
     "metadata": {},
     "output_type": "execute_result"
    }
   ],
   "source": [
    "\"\"\"Смотрим на случайные 3 записи в шаблоне для ответов\"\"\"\n",
    "sample_submission.sample(3)"
   ]
  },
  {
   "cell_type": "markdown",
   "metadata": {
    "papermill": {
     "duration": 0.02699,
     "end_time": "2024-03-07T16:43:48.047372",
     "exception": false,
     "start_time": "2024-03-07T16:43:48.020382",
     "status": "completed"
    },
    "tags": []
   },
   "source": [
    "## Постановка задачи регрессии\n",
    "\n",
    "Необходимо определить медианную стоимость дома в квартале, зная все остальные признаки.\n",
    "\n",
    "**Целевая переменная**: `median_house_value`\n",
    "\n",
    "**Признаки**: `longitude, latitude, housing_median_age, total_rooms, total_bedrooms, population, households,\tmedian_income`\n",
    "\n",
    "Признаки подаются на вход нейронной сети, на выходе сеть должна выдать значение целевой переменной - `median_house_value`"
   ]
  },
  {
   "cell_type": "code",
   "execution_count": 6,
   "metadata": {
    "execution": {
     "iopub.execute_input": "2024-03-07T16:43:48.106039Z",
     "iopub.status.busy": "2024-03-07T16:43:48.105188Z",
     "iopub.status.idle": "2024-03-07T16:43:48.114340Z",
     "shell.execute_reply": "2024-03-07T16:43:48.114938Z",
     "shell.execute_reply.started": "2024-03-07T16:42:33.326644Z"
    },
    "papermill": {
     "duration": 0.042215,
     "end_time": "2024-03-07T16:43:48.115208",
     "exception": false,
     "start_time": "2024-03-07T16:43:48.072993",
     "status": "completed"
    },
    "tags": []
   },
   "outputs": [],
   "source": [
    "\"\"\"Выделяем данные для обучения и преобразуем их в массивы numpy.\n",
    "Функция pop() возвращает нам указанный столбец и одновременно удаляет его из таблицы.\n",
    "Таким образом, когда мы присваиваем df_train в переменную x_train,\n",
    "там уже нет столбца с метками правильных ответов median_house_value \"\"\"\n",
    "y_train = train_df.pop('median_house_value').values\n",
    "x_train = train_df.values\n",
    "x_test = test_df.values"
   ]
  },
  {
   "cell_type": "code",
   "execution_count": 7,
   "metadata": {
    "execution": {
     "iopub.execute_input": "2024-03-07T16:43:48.177589Z",
     "iopub.status.busy": "2024-03-07T16:43:48.176006Z",
     "iopub.status.idle": "2024-03-07T16:43:48.185339Z",
     "shell.execute_reply": "2024-03-07T16:43:48.185974Z",
     "shell.execute_reply.started": "2024-03-07T16:42:33.337264Z"
    },
    "papermill": {
     "duration": 0.044462,
     "end_time": "2024-03-07T16:43:48.186253",
     "exception": false,
     "start_time": "2024-03-07T16:43:48.141791",
     "status": "completed"
    },
    "tags": []
   },
   "outputs": [
    {
     "data": {
      "text/plain": [
       "((17000, 8), (3000, 8))"
      ]
     },
     "execution_count": 7,
     "metadata": {},
     "output_type": "execute_result"
    }
   ],
   "source": [
    "\"\"\"Убедимся, что количество столбцов в данных совпадает\"\"\"\n",
    "x_train.shape, x_test.shape"
   ]
  },
  {
   "cell_type": "markdown",
   "metadata": {
    "papermill": {
     "duration": 0.030064,
     "end_time": "2024-03-07T16:43:48.243210",
     "exception": false,
     "start_time": "2024-03-07T16:43:48.213146",
     "status": "completed"
    },
    "tags": []
   },
   "source": [
    "**Стандартизация данных**\n",
    "\n",
    "Вычитаем среднее значение и делим на стандартное отклонение"
   ]
  },
  {
   "cell_type": "code",
   "execution_count": 8,
   "metadata": {
    "execution": {
     "iopub.execute_input": "2024-03-07T16:43:48.299583Z",
     "iopub.status.busy": "2024-03-07T16:43:48.298364Z",
     "iopub.status.idle": "2024-03-07T16:43:48.307165Z",
     "shell.execute_reply": "2024-03-07T16:43:48.307810Z",
     "shell.execute_reply.started": "2024-03-07T16:42:33.352684Z"
    },
    "papermill": {
     "duration": 0.038826,
     "end_time": "2024-03-07T16:43:48.308048",
     "exception": false,
     "start_time": "2024-03-07T16:43:48.269222",
     "status": "completed"
    },
    "tags": []
   },
   "outputs": [],
   "source": [
    "# Среднее значение\n",
    "mean = x_train.mean(axis=0)\n",
    "# Стандартное отклонение\n",
    "std = x_train.std(axis=0)\n",
    "x_train -= mean\n",
    "x_train /= std\n",
    "x_test -= mean\n",
    "x_test /= std"
   ]
  },
  {
   "cell_type": "markdown",
   "metadata": {
    "papermill": {
     "duration": 0.026128,
     "end_time": "2024-03-07T16:43:48.359036",
     "exception": false,
     "start_time": "2024-03-07T16:43:48.332908",
     "status": "completed"
    },
    "tags": []
   },
   "source": [
    "## Создаем нейронную сеть\n",
    "\n",
    "Выходной слой с одним линейным нейроном - для задачи регрессии функция активации - RELU."
   ]
  },
  {
   "cell_type": "code",
   "execution_count": 9,
   "metadata": {
    "execution": {
     "iopub.execute_input": "2024-03-07T16:43:48.422687Z",
     "iopub.status.busy": "2024-03-07T16:43:48.421688Z",
     "iopub.status.idle": "2024-03-07T16:43:48.592589Z",
     "shell.execute_reply": "2024-03-07T16:43:48.591837Z",
     "shell.execute_reply.started": "2024-03-07T16:42:33.362413Z"
    },
    "papermill": {
     "duration": 0.205323,
     "end_time": "2024-03-07T16:43:48.592766",
     "exception": false,
     "start_time": "2024-03-07T16:43:48.387443",
     "status": "completed"
    },
    "tags": []
   },
   "outputs": [],
   "source": [
    "model = Sequential([\n",
    "    Dense(200, activation='relu', input_shape=(x_train.shape[1],)),\n",
    "    Dropout(0.3),\n",
    "    Dense(400, activation='relu'),\n",
    "    Dropout(0.2),\n",
    "    Dense(400, activation='relu'),\n",
    "    Dropout(0.1),\n",
    "    Dense(300, activation='relu'),\n",
    "    Dense(200, activation='relu'),\n",
    "    Dense(100, activation='relu'),\n",
    "    Dense(10, activation='relu'),\n",
    "    Dense(1)\n",
    "])"
   ]
  },
  {
   "cell_type": "code",
   "execution_count": 10,
   "metadata": {
    "execution": {
     "iopub.execute_input": "2024-03-07T16:43:48.651910Z",
     "iopub.status.busy": "2024-03-07T16:43:48.649753Z",
     "iopub.status.idle": "2024-03-07T16:43:48.660579Z",
     "shell.execute_reply": "2024-03-07T16:43:48.659927Z",
     "shell.execute_reply.started": "2024-03-07T16:42:33.467599Z"
    },
    "papermill": {
     "duration": 0.042524,
     "end_time": "2024-03-07T16:43:48.660764",
     "exception": false,
     "start_time": "2024-03-07T16:43:48.618240",
     "status": "completed"
    },
    "tags": []
   },
   "outputs": [
    {
     "name": "stdout",
     "output_type": "stream",
     "text": [
      "Model: \"sequential\"\n",
      "_________________________________________________________________\n",
      "Layer (type)                 Output Shape              Param #   \n",
      "=================================================================\n",
      "dense (Dense)                (None, 200)               1800      \n",
      "_________________________________________________________________\n",
      "dropout (Dropout)            (None, 200)               0         \n",
      "_________________________________________________________________\n",
      "dense_1 (Dense)              (None, 400)               80400     \n",
      "_________________________________________________________________\n",
      "dropout_1 (Dropout)          (None, 400)               0         \n",
      "_________________________________________________________________\n",
      "dense_2 (Dense)              (None, 400)               160400    \n",
      "_________________________________________________________________\n",
      "dropout_2 (Dropout)          (None, 400)               0         \n",
      "_________________________________________________________________\n",
      "dense_3 (Dense)              (None, 300)               120300    \n",
      "_________________________________________________________________\n",
      "dense_4 (Dense)              (None, 200)               60200     \n",
      "_________________________________________________________________\n",
      "dense_5 (Dense)              (None, 100)               20100     \n",
      "_________________________________________________________________\n",
      "dense_6 (Dense)              (None, 10)                1010      \n",
      "_________________________________________________________________\n",
      "dense_7 (Dense)              (None, 1)                 11        \n",
      "=================================================================\n",
      "Total params: 444,221\n",
      "Trainable params: 444,221\n",
      "Non-trainable params: 0\n",
      "_________________________________________________________________\n",
      "None\n"
     ]
    }
   ],
   "source": [
    "print(model.summary())"
   ]
  },
  {
   "cell_type": "markdown",
   "metadata": {
    "papermill": {
     "duration": 0.026187,
     "end_time": "2024-03-07T16:43:48.713689",
     "exception": false,
     "start_time": "2024-03-07T16:43:48.687502",
     "status": "completed"
    },
    "tags": []
   },
   "source": [
    "**Компилируем сеть**\n",
    "\n",
    "Функция ошибки - среднеквадратичное отклонение. Метрика - среднее абсолютное отклонение."
   ]
  },
  {
   "cell_type": "code",
   "execution_count": 11,
   "metadata": {
    "execution": {
     "iopub.execute_input": "2024-03-07T16:43:48.783311Z",
     "iopub.status.busy": "2024-03-07T16:43:48.775242Z",
     "iopub.status.idle": "2024-03-07T16:43:48.791973Z",
     "shell.execute_reply": "2024-03-07T16:43:48.791219Z",
     "shell.execute_reply.started": "2024-03-07T16:42:33.485838Z"
    },
    "papermill": {
     "duration": 0.051607,
     "end_time": "2024-03-07T16:43:48.792197",
     "exception": false,
     "start_time": "2024-03-07T16:43:48.740590",
     "status": "completed"
    },
    "tags": []
   },
   "outputs": [],
   "source": [
    "model.compile(optimizer='nadam', loss=tf.keras.losses.MeanAbsoluteError(), metrics=['mae'])"
   ]
  },
  {
   "cell_type": "markdown",
   "metadata": {
    "papermill": {
     "duration": 0.026288,
     "end_time": "2024-03-07T16:43:48.844028",
     "exception": false,
     "start_time": "2024-03-07T16:43:48.817740",
     "status": "completed"
    },
    "tags": []
   },
   "source": [
    "## Обучаем нейронную сеть"
   ]
  },
  {
   "cell_type": "code",
   "execution_count": 12,
   "metadata": {
    "execution": {
     "iopub.execute_input": "2024-03-07T16:43:48.915922Z",
     "iopub.status.busy": "2024-03-07T16:43:48.914613Z",
     "iopub.status.idle": "2024-03-07T16:52:35.129654Z",
     "shell.execute_reply": "2024-03-07T16:52:35.130270Z"
    },
    "papermill": {
     "duration": 526.260631,
     "end_time": "2024-03-07T16:52:35.130483",
     "exception": false,
     "start_time": "2024-03-07T16:43:48.869852",
     "status": "completed"
    },
    "tags": []
   },
   "outputs": [
    {
     "name": "stdout",
     "output_type": "stream",
     "text": [
      "Epoch 1/300\n",
      "153/153 - 4s - loss: 86836.3516 - mae: 86836.3516 - val_loss: 52279.2656 - val_mae: 52279.2656\n",
      "Epoch 2/300\n",
      "153/153 - 2s - loss: 50673.5391 - mae: 50673.5391 - val_loss: 45518.0195 - val_mae: 45518.0078\n",
      "Epoch 3/300\n",
      "153/153 - 2s - loss: 48219.8555 - mae: 48219.8555 - val_loss: 44048.8594 - val_mae: 44048.8594\n",
      "Epoch 4/300\n",
      "153/153 - 2s - loss: 47218.9297 - mae: 47218.9297 - val_loss: 43546.8086 - val_mae: 43546.8086\n",
      "Epoch 5/300\n",
      "153/153 - 2s - loss: 46370.0781 - mae: 46370.0781 - val_loss: 43188.8125 - val_mae: 43188.8125\n",
      "Epoch 6/300\n",
      "153/153 - 2s - loss: 45974.9180 - mae: 45974.9180 - val_loss: 42933.6992 - val_mae: 42933.6992\n",
      "Epoch 7/300\n",
      "153/153 - 2s - loss: 45398.1133 - mae: 45398.1133 - val_loss: 44297.6602 - val_mae: 44297.6602\n",
      "Epoch 8/300\n",
      "153/153 - 2s - loss: 44845.0703 - mae: 44845.0703 - val_loss: 43011.5625 - val_mae: 43011.5625\n",
      "Epoch 9/300\n",
      "153/153 - 2s - loss: 44392.2383 - mae: 44392.2383 - val_loss: 41599.0898 - val_mae: 41599.0898\n",
      "Epoch 10/300\n",
      "153/153 - 2s - loss: 44087.1836 - mae: 44087.1836 - val_loss: 41426.7070 - val_mae: 41426.7070\n",
      "Epoch 11/300\n",
      "153/153 - 2s - loss: 43689.6367 - mae: 43689.6367 - val_loss: 40963.1484 - val_mae: 40963.1484\n",
      "Epoch 12/300\n",
      "153/153 - 2s - loss: 43619.1406 - mae: 43619.1406 - val_loss: 40691.0078 - val_mae: 40691.0078\n",
      "Epoch 13/300\n",
      "153/153 - 2s - loss: 43380.2461 - mae: 43380.2461 - val_loss: 40184.7578 - val_mae: 40184.7578\n",
      "Epoch 14/300\n",
      "153/153 - 2s - loss: 42599.3828 - mae: 42599.3828 - val_loss: 39967.7227 - val_mae: 39967.7227\n",
      "Epoch 15/300\n",
      "153/153 - 2s - loss: 42379.4961 - mae: 42379.4961 - val_loss: 39879.7227 - val_mae: 39879.7227\n",
      "Epoch 16/300\n",
      "153/153 - 2s - loss: 41968.9414 - mae: 41968.9414 - val_loss: 39387.6250 - val_mae: 39387.6250\n",
      "Epoch 17/300\n",
      "153/153 - 2s - loss: 41843.3281 - mae: 41843.3281 - val_loss: 39755.9219 - val_mae: 39755.9219\n",
      "Epoch 18/300\n",
      "153/153 - 2s - loss: 41368.7852 - mae: 41368.7852 - val_loss: 39284.6719 - val_mae: 39284.6719\n",
      "Epoch 19/300\n",
      "153/153 - 2s - loss: 41350.0898 - mae: 41350.0898 - val_loss: 38552.0039 - val_mae: 38552.0039\n",
      "Epoch 20/300\n",
      "153/153 - 2s - loss: 40695.1172 - mae: 40695.1172 - val_loss: 38296.4297 - val_mae: 38296.4336\n",
      "Epoch 21/300\n",
      "153/153 - 2s - loss: 40659.3633 - mae: 40659.3633 - val_loss: 37741.2773 - val_mae: 37741.2773\n",
      "Epoch 22/300\n",
      "153/153 - 2s - loss: 40434.7930 - mae: 40434.7930 - val_loss: 37747.2734 - val_mae: 37747.2734\n",
      "Epoch 23/300\n",
      "153/153 - 2s - loss: 40242.7109 - mae: 40242.7109 - val_loss: 37990.8867 - val_mae: 37990.8867\n",
      "Epoch 24/300\n",
      "153/153 - 2s - loss: 40112.2891 - mae: 40112.2852 - val_loss: 37194.8789 - val_mae: 37194.8789\n",
      "Epoch 25/300\n",
      "153/153 - 2s - loss: 39791.8867 - mae: 39791.8867 - val_loss: 36935.1289 - val_mae: 36935.1250\n",
      "Epoch 26/300\n",
      "153/153 - 2s - loss: 39721.0977 - mae: 39721.0977 - val_loss: 36932.8867 - val_mae: 36932.8867\n",
      "Epoch 27/300\n",
      "153/153 - 2s - loss: 39645.4688 - mae: 39645.4688 - val_loss: 38230.3359 - val_mae: 38230.3359\n",
      "Epoch 28/300\n",
      "153/153 - 2s - loss: 39071.4258 - mae: 39071.4258 - val_loss: 36679.5469 - val_mae: 36679.5469\n",
      "Epoch 29/300\n",
      "153/153 - 2s - loss: 39074.0039 - mae: 39074.0039 - val_loss: 36660.0938 - val_mae: 36660.0938\n",
      "Epoch 30/300\n",
      "153/153 - 2s - loss: 38900.3672 - mae: 38900.3672 - val_loss: 37014.6367 - val_mae: 37014.6367\n",
      "Epoch 31/300\n",
      "153/153 - 2s - loss: 38641.1680 - mae: 38641.1680 - val_loss: 36792.9102 - val_mae: 36792.9102\n",
      "Epoch 32/300\n",
      "153/153 - 2s - loss: 38580.1797 - mae: 38580.1836 - val_loss: 36535.5469 - val_mae: 36535.5469\n",
      "Epoch 33/300\n",
      "153/153 - 2s - loss: 38327.7500 - mae: 38327.7500 - val_loss: 36708.7305 - val_mae: 36708.7305\n",
      "Epoch 34/300\n",
      "153/153 - 2s - loss: 38208.2422 - mae: 38208.2422 - val_loss: 35949.5000 - val_mae: 35949.5000\n",
      "Epoch 35/300\n",
      "153/153 - 2s - loss: 38452.7578 - mae: 38452.7578 - val_loss: 35869.4219 - val_mae: 35869.4258\n",
      "Epoch 36/300\n",
      "153/153 - 2s - loss: 38221.9609 - mae: 38221.9609 - val_loss: 36850.0664 - val_mae: 36850.0664\n",
      "Epoch 37/300\n",
      "153/153 - 2s - loss: 38233.2578 - mae: 38233.2617 - val_loss: 35813.3828 - val_mae: 35813.3828\n",
      "Epoch 38/300\n",
      "153/153 - 2s - loss: 37959.6602 - mae: 37959.6602 - val_loss: 35657.6953 - val_mae: 35657.6953\n",
      "Epoch 39/300\n",
      "153/153 - 2s - loss: 37744.8086 - mae: 37744.8086 - val_loss: 35605.9883 - val_mae: 35605.9883\n",
      "Epoch 40/300\n",
      "153/153 - 2s - loss: 37586.9102 - mae: 37586.9102 - val_loss: 35526.8086 - val_mae: 35526.8086\n",
      "Epoch 41/300\n",
      "153/153 - 2s - loss: 37887.9219 - mae: 37887.9219 - val_loss: 36942.4883 - val_mae: 36942.4883\n",
      "Epoch 42/300\n",
      "153/153 - 2s - loss: 37546.0898 - mae: 37546.0898 - val_loss: 35327.0625 - val_mae: 35327.0625\n",
      "Epoch 43/300\n",
      "153/153 - 2s - loss: 37493.3633 - mae: 37493.3594 - val_loss: 35231.1328 - val_mae: 35231.1328\n",
      "Epoch 44/300\n",
      "153/153 - 2s - loss: 37345.7812 - mae: 37345.7812 - val_loss: 35787.9844 - val_mae: 35787.9844\n",
      "Epoch 45/300\n",
      "153/153 - 2s - loss: 37207.0859 - mae: 37207.0859 - val_loss: 36002.8359 - val_mae: 36002.8359\n",
      "Epoch 46/300\n",
      "153/153 - 2s - loss: 37229.3828 - mae: 37229.3828 - val_loss: 37244.1172 - val_mae: 37244.1172\n",
      "Epoch 47/300\n",
      "153/153 - 2s - loss: 36986.3711 - mae: 36986.3711 - val_loss: 35352.4336 - val_mae: 35352.4336\n",
      "Epoch 48/300\n",
      "153/153 - 2s - loss: 37191.4258 - mae: 37191.4258 - val_loss: 35284.6367 - val_mae: 35284.6328\n",
      "Epoch 49/300\n",
      "153/153 - 2s - loss: 37186.1172 - mae: 37186.1172 - val_loss: 35381.6992 - val_mae: 35381.6992\n",
      "Epoch 50/300\n",
      "153/153 - 2s - loss: 37125.9570 - mae: 37125.9570 - val_loss: 35567.9102 - val_mae: 35567.9102\n",
      "Epoch 51/300\n",
      "153/153 - 2s - loss: 36867.2734 - mae: 36867.2734 - val_loss: 35782.6484 - val_mae: 35782.6484\n",
      "Epoch 52/300\n",
      "153/153 - 2s - loss: 36974.6562 - mae: 36974.6562 - val_loss: 34512.0469 - val_mae: 34512.0430\n",
      "Epoch 53/300\n",
      "153/153 - 2s - loss: 36850.7812 - mae: 36850.7812 - val_loss: 34838.2188 - val_mae: 34838.2188\n",
      "Epoch 54/300\n",
      "153/153 - 2s - loss: 36735.3086 - mae: 36735.3086 - val_loss: 34698.0781 - val_mae: 34698.0781\n",
      "Epoch 55/300\n",
      "153/153 - 2s - loss: 36954.4023 - mae: 36954.4023 - val_loss: 34583.8555 - val_mae: 34583.8555\n",
      "Epoch 56/300\n",
      "153/153 - 2s - loss: 36734.9844 - mae: 36734.9844 - val_loss: 34704.5586 - val_mae: 34704.5586\n",
      "Epoch 57/300\n",
      "153/153 - 2s - loss: 36755.3516 - mae: 36755.3516 - val_loss: 34316.9883 - val_mae: 34316.9883\n",
      "Epoch 58/300\n",
      "153/153 - 2s - loss: 36502.0547 - mae: 36502.0547 - val_loss: 34885.2383 - val_mae: 34885.2383\n",
      "Epoch 59/300\n",
      "153/153 - 2s - loss: 36545.7383 - mae: 36545.7383 - val_loss: 34729.4570 - val_mae: 34729.4570\n",
      "Epoch 60/300\n",
      "153/153 - 2s - loss: 36387.5234 - mae: 36387.5234 - val_loss: 34700.6406 - val_mae: 34700.6406\n",
      "Epoch 61/300\n",
      "153/153 - 2s - loss: 36489.6484 - mae: 36489.6484 - val_loss: 34670.5312 - val_mae: 34670.5312\n",
      "Epoch 62/300\n",
      "153/153 - 2s - loss: 36317.4062 - mae: 36317.4062 - val_loss: 34919.0039 - val_mae: 34919.0039\n",
      "Epoch 63/300\n",
      "153/153 - 2s - loss: 36316.5234 - mae: 36316.5234 - val_loss: 34670.9844 - val_mae: 34670.9844\n",
      "Epoch 64/300\n",
      "153/153 - 2s - loss: 36309.2969 - mae: 36309.2969 - val_loss: 34776.9219 - val_mae: 34776.9219\n",
      "Epoch 65/300\n",
      "153/153 - 2s - loss: 36263.5234 - mae: 36263.5234 - val_loss: 34442.7617 - val_mae: 34442.7617\n",
      "Epoch 66/300\n",
      "153/153 - 2s - loss: 36054.0938 - mae: 36054.0938 - val_loss: 34624.6250 - val_mae: 34624.6289\n",
      "Epoch 67/300\n",
      "153/153 - 2s - loss: 36214.1172 - mae: 36214.1172 - val_loss: 34939.4062 - val_mae: 34939.4062\n",
      "Epoch 68/300\n",
      "153/153 - 2s - loss: 36233.1602 - mae: 36233.1602 - val_loss: 34862.4531 - val_mae: 34862.4531\n",
      "Epoch 69/300\n",
      "153/153 - 2s - loss: 36064.8828 - mae: 36064.8828 - val_loss: 34629.7539 - val_mae: 34629.7539\n",
      "Epoch 70/300\n",
      "153/153 - 2s - loss: 35875.1211 - mae: 35875.1211 - val_loss: 34301.4648 - val_mae: 34301.4648\n",
      "Epoch 71/300\n",
      "153/153 - 2s - loss: 36030.6484 - mae: 36030.6484 - val_loss: 34241.3633 - val_mae: 34241.3633\n",
      "Epoch 72/300\n",
      "153/153 - 2s - loss: 36048.7734 - mae: 36048.7734 - val_loss: 34793.1719 - val_mae: 34793.1719\n",
      "Epoch 73/300\n",
      "153/153 - 2s - loss: 35900.7891 - mae: 35900.7891 - val_loss: 34069.8047 - val_mae: 34069.8047\n",
      "Epoch 74/300\n",
      "153/153 - 2s - loss: 35718.8828 - mae: 35718.8828 - val_loss: 34118.8242 - val_mae: 34118.8242\n",
      "Epoch 75/300\n",
      "153/153 - 2s - loss: 35768.4844 - mae: 35768.4844 - val_loss: 34214.6602 - val_mae: 34214.6602\n",
      "Epoch 76/300\n",
      "153/153 - 2s - loss: 35814.0039 - mae: 35814.0039 - val_loss: 34850.2852 - val_mae: 34850.2852\n",
      "Epoch 77/300\n",
      "153/153 - 2s - loss: 35766.0703 - mae: 35766.0742 - val_loss: 34454.1641 - val_mae: 34454.1641\n",
      "Epoch 78/300\n",
      "153/153 - 2s - loss: 35747.6797 - mae: 35747.6758 - val_loss: 34211.8203 - val_mae: 34211.8203\n",
      "Epoch 79/300\n",
      "153/153 - 2s - loss: 35388.5078 - mae: 35388.5078 - val_loss: 33879.0547 - val_mae: 33879.0547\n",
      "Epoch 80/300\n",
      "153/153 - 2s - loss: 35755.2422 - mae: 35755.2422 - val_loss: 34483.9336 - val_mae: 34483.9336\n",
      "Epoch 81/300\n",
      "153/153 - 2s - loss: 35410.7305 - mae: 35410.7305 - val_loss: 33936.2617 - val_mae: 33936.2617\n",
      "Epoch 82/300\n",
      "153/153 - 2s - loss: 35589.2734 - mae: 35589.2734 - val_loss: 34471.3555 - val_mae: 34471.3555\n",
      "Epoch 83/300\n",
      "153/153 - 2s - loss: 35435.2109 - mae: 35435.2109 - val_loss: 34231.5469 - val_mae: 34231.5469\n",
      "Epoch 84/300\n",
      "153/153 - 2s - loss: 35479.4648 - mae: 35479.4609 - val_loss: 33471.7344 - val_mae: 33471.7344\n",
      "Epoch 85/300\n",
      "153/153 - 2s - loss: 35449.8438 - mae: 35449.8438 - val_loss: 34160.0430 - val_mae: 34160.0430\n",
      "Epoch 86/300\n",
      "153/153 - 2s - loss: 35534.7344 - mae: 35534.7383 - val_loss: 33982.5195 - val_mae: 33982.5195\n",
      "Epoch 87/300\n",
      "153/153 - 2s - loss: 35476.1172 - mae: 35476.1172 - val_loss: 33733.1250 - val_mae: 33733.1250\n",
      "Epoch 88/300\n",
      "153/153 - 2s - loss: 35256.7617 - mae: 35256.7578 - val_loss: 34217.2227 - val_mae: 34217.2227\n",
      "Epoch 89/300\n",
      "153/153 - 2s - loss: 35485.0352 - mae: 35485.0352 - val_loss: 34352.1836 - val_mae: 34352.1836\n",
      "Epoch 90/300\n",
      "153/153 - 2s - loss: 35358.4648 - mae: 35358.4648 - val_loss: 33369.1367 - val_mae: 33369.1328\n",
      "Epoch 91/300\n",
      "153/153 - 2s - loss: 35395.0469 - mae: 35395.0469 - val_loss: 34948.6250 - val_mae: 34948.6250\n",
      "Epoch 92/300\n",
      "153/153 - 2s - loss: 35159.0352 - mae: 35159.0352 - val_loss: 34398.1328 - val_mae: 34398.1328\n",
      "Epoch 93/300\n",
      "153/153 - 2s - loss: 35413.7461 - mae: 35413.7461 - val_loss: 33596.4375 - val_mae: 33596.4375\n",
      "Epoch 94/300\n",
      "153/153 - 2s - loss: 35154.9375 - mae: 35154.9375 - val_loss: 35199.3711 - val_mae: 35199.3711\n",
      "Epoch 95/300\n",
      "153/153 - 2s - loss: 34953.5547 - mae: 34953.5547 - val_loss: 34096.7070 - val_mae: 34096.7070\n",
      "Epoch 96/300\n",
      "153/153 - 2s - loss: 35057.8984 - mae: 35057.8984 - val_loss: 33429.1445 - val_mae: 33429.1445\n",
      "Epoch 97/300\n",
      "153/153 - 2s - loss: 35093.8789 - mae: 35093.8789 - val_loss: 33728.6406 - val_mae: 33728.6445\n",
      "Epoch 98/300\n",
      "153/153 - 2s - loss: 35039.7188 - mae: 35039.7188 - val_loss: 33479.3867 - val_mae: 33479.3867\n",
      "Epoch 99/300\n",
      "153/153 - 2s - loss: 35184.3594 - mae: 35184.3594 - val_loss: 36259.2734 - val_mae: 36259.2734\n",
      "Epoch 100/300\n",
      "153/153 - 2s - loss: 34924.5938 - mae: 34924.5938 - val_loss: 33819.1211 - val_mae: 33819.1211\n",
      "Epoch 101/300\n",
      "153/153 - 2s - loss: 35242.8594 - mae: 35242.8594 - val_loss: 33543.6875 - val_mae: 33543.6875\n",
      "Epoch 102/300\n",
      "153/153 - 2s - loss: 35014.4258 - mae: 35014.4258 - val_loss: 34798.7148 - val_mae: 34798.7148\n",
      "Epoch 103/300\n",
      "153/153 - 2s - loss: 34982.7969 - mae: 34982.7969 - val_loss: 33394.4219 - val_mae: 33394.4219\n",
      "Epoch 104/300\n",
      "153/153 - 2s - loss: 34886.6211 - mae: 34886.6250 - val_loss: 34178.5703 - val_mae: 34178.5703\n",
      "Epoch 105/300\n",
      "153/153 - 2s - loss: 35003.3125 - mae: 35003.3125 - val_loss: 33723.2891 - val_mae: 33723.2891\n",
      "Epoch 106/300\n",
      "153/153 - 2s - loss: 34686.3008 - mae: 34686.3008 - val_loss: 33729.9883 - val_mae: 33729.9883\n",
      "Epoch 107/300\n",
      "153/153 - 2s - loss: 34877.0508 - mae: 34877.0508 - val_loss: 34118.4883 - val_mae: 34118.4883\n",
      "Epoch 108/300\n",
      "153/153 - 2s - loss: 34684.2695 - mae: 34684.2695 - val_loss: 33688.3867 - val_mae: 33688.3867\n",
      "Epoch 109/300\n",
      "153/153 - 2s - loss: 34852.9062 - mae: 34852.9062 - val_loss: 33213.8555 - val_mae: 33213.8555\n",
      "Epoch 110/300\n",
      "153/153 - 2s - loss: 34629.7227 - mae: 34629.7227 - val_loss: 33169.7227 - val_mae: 33169.7227\n",
      "Epoch 111/300\n",
      "153/153 - 2s - loss: 34724.2305 - mae: 34724.2266 - val_loss: 33700.2617 - val_mae: 33700.2617\n",
      "Epoch 112/300\n",
      "153/153 - 2s - loss: 34962.1758 - mae: 34962.1758 - val_loss: 33617.1289 - val_mae: 33617.1289\n",
      "Epoch 113/300\n",
      "153/153 - 2s - loss: 34756.4102 - mae: 34756.4102 - val_loss: 33459.8086 - val_mae: 33459.8086\n",
      "Epoch 114/300\n",
      "153/153 - 2s - loss: 34614.3477 - mae: 34614.3477 - val_loss: 33662.9766 - val_mae: 33662.9766\n",
      "Epoch 115/300\n",
      "153/153 - 2s - loss: 34415.7773 - mae: 34415.7773 - val_loss: 33772.6953 - val_mae: 33772.6953\n",
      "Epoch 116/300\n",
      "153/153 - 2s - loss: 34648.1641 - mae: 34648.1641 - val_loss: 33225.1992 - val_mae: 33225.1992\n",
      "Epoch 117/300\n",
      "153/153 - 2s - loss: 34504.7891 - mae: 34504.7891 - val_loss: 33364.8633 - val_mae: 33364.8633\n",
      "Epoch 118/300\n",
      "153/153 - 2s - loss: 34365.5898 - mae: 34365.5859 - val_loss: 33178.9688 - val_mae: 33178.9688\n",
      "Epoch 119/300\n",
      "153/153 - 2s - loss: 34575.6836 - mae: 34575.6836 - val_loss: 33458.6836 - val_mae: 33458.6836\n",
      "Epoch 120/300\n",
      "153/153 - 2s - loss: 34439.6797 - mae: 34439.6758 - val_loss: 33323.6641 - val_mae: 33323.6641\n",
      "Epoch 121/300\n",
      "153/153 - 2s - loss: 34455.0742 - mae: 34455.0742 - val_loss: 34095.4570 - val_mae: 34095.4570\n",
      "Epoch 122/300\n",
      "153/153 - 2s - loss: 34481.5430 - mae: 34481.5430 - val_loss: 34239.1055 - val_mae: 34239.1055\n",
      "Epoch 123/300\n",
      "153/153 - 2s - loss: 34455.9805 - mae: 34455.9766 - val_loss: 33390.4688 - val_mae: 33390.4688\n",
      "Epoch 124/300\n",
      "153/153 - 2s - loss: 34339.3164 - mae: 34339.3164 - val_loss: 33689.9648 - val_mae: 33689.9648\n",
      "Epoch 125/300\n",
      "153/153 - 2s - loss: 34498.7812 - mae: 34498.7812 - val_loss: 33576.9805 - val_mae: 33576.9805\n",
      "Epoch 126/300\n",
      "153/153 - 2s - loss: 34631.2812 - mae: 34631.2812 - val_loss: 33584.2812 - val_mae: 33584.2773\n",
      "Epoch 127/300\n",
      "153/153 - 2s - loss: 34186.9414 - mae: 34186.9414 - val_loss: 34204.8828 - val_mae: 34204.8828\n",
      "Epoch 128/300\n",
      "153/153 - 2s - loss: 34510.4453 - mae: 34510.4453 - val_loss: 33060.7773 - val_mae: 33060.7773\n",
      "Epoch 129/300\n",
      "153/153 - 2s - loss: 34303.8281 - mae: 34303.8281 - val_loss: 33233.9375 - val_mae: 33233.9375\n",
      "Epoch 130/300\n",
      "153/153 - 2s - loss: 34361.9727 - mae: 34361.9688 - val_loss: 33995.9688 - val_mae: 33995.9727\n",
      "Epoch 131/300\n",
      "153/153 - 2s - loss: 34352.8008 - mae: 34352.8008 - val_loss: 33646.1992 - val_mae: 33646.2031\n",
      "Epoch 132/300\n",
      "153/153 - 2s - loss: 34117.8750 - mae: 34117.8789 - val_loss: 33613.5938 - val_mae: 33613.5938\n",
      "Epoch 133/300\n",
      "153/153 - 2s - loss: 34092.7109 - mae: 34092.7109 - val_loss: 33432.0000 - val_mae: 33432.0000\n",
      "Epoch 134/300\n",
      "153/153 - 2s - loss: 34319.7617 - mae: 34319.7617 - val_loss: 33183.6289 - val_mae: 33183.6289\n",
      "Epoch 135/300\n",
      "153/153 - 2s - loss: 34266.6445 - mae: 34266.6445 - val_loss: 33192.0352 - val_mae: 33192.0352\n",
      "Epoch 136/300\n",
      "153/153 - 2s - loss: 34115.5625 - mae: 34115.5625 - val_loss: 34462.4883 - val_mae: 34462.4883\n",
      "Epoch 137/300\n",
      "153/153 - 2s - loss: 34300.9648 - mae: 34300.9648 - val_loss: 33898.5039 - val_mae: 33898.5039\n",
      "Epoch 138/300\n",
      "153/153 - 2s - loss: 33985.8516 - mae: 33985.8516 - val_loss: 33998.1094 - val_mae: 33998.1094\n",
      "Epoch 139/300\n",
      "153/153 - 2s - loss: 34064.4570 - mae: 34064.4570 - val_loss: 33538.7539 - val_mae: 33538.7539\n",
      "Epoch 140/300\n",
      "153/153 - 2s - loss: 33976.5977 - mae: 33976.5977 - val_loss: 33086.2109 - val_mae: 33086.2109\n",
      "Epoch 141/300\n",
      "153/153 - 2s - loss: 34020.0273 - mae: 34020.0312 - val_loss: 33805.5078 - val_mae: 33805.5078\n",
      "Epoch 142/300\n",
      "153/153 - 2s - loss: 34022.9883 - mae: 34022.9883 - val_loss: 33239.4180 - val_mae: 33239.4180\n",
      "Epoch 143/300\n",
      "153/153 - 2s - loss: 34202.7617 - mae: 34202.7617 - val_loss: 33648.8555 - val_mae: 33648.8555\n",
      "Epoch 144/300\n",
      "153/153 - 2s - loss: 33983.2266 - mae: 33983.2266 - val_loss: 33114.4648 - val_mae: 33114.4648\n",
      "Epoch 145/300\n",
      "153/153 - 2s - loss: 34253.3789 - mae: 34253.3789 - val_loss: 33843.2578 - val_mae: 33843.2578\n",
      "Epoch 146/300\n",
      "153/153 - 2s - loss: 33943.7617 - mae: 33943.7617 - val_loss: 33183.3477 - val_mae: 33183.3477\n",
      "Epoch 147/300\n",
      "153/153 - 2s - loss: 33898.7578 - mae: 33898.7578 - val_loss: 33487.7891 - val_mae: 33487.7891\n",
      "Epoch 148/300\n",
      "153/153 - 2s - loss: 34080.6016 - mae: 34080.6016 - val_loss: 33077.6406 - val_mae: 33077.6406\n",
      "Epoch 149/300\n",
      "153/153 - 2s - loss: 34040.0781 - mae: 34040.0781 - val_loss: 32848.8203 - val_mae: 32848.8203\n",
      "Epoch 150/300\n",
      "153/153 - 2s - loss: 34188.6641 - mae: 34188.6641 - val_loss: 33334.1602 - val_mae: 33334.1602\n",
      "Epoch 151/300\n",
      "153/153 - 2s - loss: 33994.2109 - mae: 33994.2109 - val_loss: 33111.3359 - val_mae: 33111.3359\n",
      "Epoch 152/300\n",
      "153/153 - 2s - loss: 33945.1992 - mae: 33945.1992 - val_loss: 33210.0508 - val_mae: 33210.0508\n",
      "Epoch 153/300\n",
      "153/153 - 2s - loss: 34063.5430 - mae: 34063.5430 - val_loss: 33385.7305 - val_mae: 33385.7305\n",
      "Epoch 154/300\n",
      "153/153 - 2s - loss: 33775.3984 - mae: 33775.3984 - val_loss: 33463.8516 - val_mae: 33463.8516\n",
      "Epoch 155/300\n",
      "153/153 - 2s - loss: 34062.5391 - mae: 34062.5430 - val_loss: 33772.4297 - val_mae: 33772.4297\n",
      "Epoch 156/300\n",
      "153/153 - 2s - loss: 33925.8789 - mae: 33925.8789 - val_loss: 32716.1289 - val_mae: 32716.1289\n",
      "Epoch 157/300\n",
      "153/153 - 2s - loss: 33998.8359 - mae: 33998.8359 - val_loss: 32930.8242 - val_mae: 32930.8242\n",
      "Epoch 158/300\n",
      "153/153 - 2s - loss: 34005.2148 - mae: 34005.2148 - val_loss: 33406.8906 - val_mae: 33406.8906\n",
      "Epoch 159/300\n",
      "153/153 - 2s - loss: 33683.7227 - mae: 33683.7227 - val_loss: 32724.0156 - val_mae: 32724.0156\n",
      "Epoch 160/300\n",
      "153/153 - 2s - loss: 33869.9688 - mae: 33869.9688 - val_loss: 32909.1758 - val_mae: 32909.1758\n",
      "Epoch 161/300\n",
      "153/153 - 2s - loss: 33855.7695 - mae: 33855.7695 - val_loss: 32790.9023 - val_mae: 32790.8945\n",
      "Epoch 162/300\n",
      "153/153 - 2s - loss: 33960.5547 - mae: 33960.5586 - val_loss: 32767.2285 - val_mae: 32767.2285\n",
      "Epoch 163/300\n",
      "153/153 - 2s - loss: 33829.1484 - mae: 33829.1484 - val_loss: 32899.7422 - val_mae: 32899.7422\n",
      "Epoch 164/300\n",
      "153/153 - 2s - loss: 33790.2969 - mae: 33790.2969 - val_loss: 32680.7441 - val_mae: 32680.7441\n",
      "Epoch 165/300\n",
      "153/153 - 2s - loss: 33615.6328 - mae: 33615.6328 - val_loss: 33668.0781 - val_mae: 33668.0781\n",
      "Epoch 166/300\n",
      "153/153 - 2s - loss: 33573.8516 - mae: 33573.8516 - val_loss: 32980.6367 - val_mae: 32980.6367\n",
      "Epoch 167/300\n",
      "153/153 - 2s - loss: 33643.1250 - mae: 33643.1250 - val_loss: 33243.3516 - val_mae: 33243.3516\n",
      "Epoch 168/300\n",
      "153/153 - 2s - loss: 33506.0977 - mae: 33506.1016 - val_loss: 33920.4883 - val_mae: 33920.4883\n",
      "Epoch 169/300\n",
      "153/153 - 2s - loss: 33629.6289 - mae: 33629.6289 - val_loss: 32849.2070 - val_mae: 32849.2070\n",
      "Epoch 170/300\n",
      "153/153 - 2s - loss: 33510.0352 - mae: 33510.0352 - val_loss: 32818.3633 - val_mae: 32818.3633\n",
      "Epoch 171/300\n",
      "153/153 - 2s - loss: 33431.1016 - mae: 33431.1016 - val_loss: 32948.6367 - val_mae: 32948.6367\n",
      "Epoch 172/300\n",
      "153/153 - 2s - loss: 33512.7930 - mae: 33512.7930 - val_loss: 34255.0547 - val_mae: 34255.0547\n",
      "Epoch 173/300\n",
      "153/153 - 2s - loss: 33629.2930 - mae: 33629.2969 - val_loss: 33152.3945 - val_mae: 33152.3906\n",
      "Epoch 174/300\n",
      "153/153 - 2s - loss: 33543.1289 - mae: 33543.1289 - val_loss: 33208.1797 - val_mae: 33208.1797\n",
      "Epoch 175/300\n",
      "153/153 - 2s - loss: 33340.7031 - mae: 33340.7031 - val_loss: 32925.0508 - val_mae: 32925.0508\n",
      "Epoch 176/300\n",
      "153/153 - 2s - loss: 33717.2617 - mae: 33717.2617 - val_loss: 33000.1250 - val_mae: 33000.1250\n",
      "Epoch 177/300\n",
      "153/153 - 2s - loss: 33286.1367 - mae: 33286.1367 - val_loss: 33338.7930 - val_mae: 33338.7930\n",
      "Epoch 178/300\n",
      "153/153 - 2s - loss: 33610.9414 - mae: 33610.9414 - val_loss: 33026.1055 - val_mae: 33026.1055\n",
      "Epoch 179/300\n",
      "153/153 - 2s - loss: 33502.4297 - mae: 33502.4297 - val_loss: 33579.9570 - val_mae: 33579.9570\n",
      "Epoch 180/300\n",
      "153/153 - 2s - loss: 33747.6406 - mae: 33747.6406 - val_loss: 33100.7266 - val_mae: 33100.7266\n",
      "Epoch 181/300\n",
      "153/153 - 2s - loss: 33344.6953 - mae: 33344.6953 - val_loss: 33559.4453 - val_mae: 33559.4453\n",
      "Epoch 182/300\n",
      "153/153 - 2s - loss: 33515.8867 - mae: 33515.8867 - val_loss: 33206.6602 - val_mae: 33206.6602\n",
      "Epoch 183/300\n",
      "153/153 - 2s - loss: 33463.3398 - mae: 33463.3398 - val_loss: 33551.9219 - val_mae: 33551.9219\n",
      "Epoch 184/300\n",
      "153/153 - 2s - loss: 33475.1992 - mae: 33475.1992 - val_loss: 32569.7285 - val_mae: 32569.7285\n",
      "Epoch 185/300\n",
      "153/153 - 2s - loss: 33306.9688 - mae: 33306.9688 - val_loss: 32248.2715 - val_mae: 32248.2715\n",
      "Epoch 186/300\n",
      "153/153 - 2s - loss: 33457.2461 - mae: 33457.2461 - val_loss: 32904.9766 - val_mae: 32904.9766\n",
      "Epoch 187/300\n",
      "153/153 - 2s - loss: 33374.4727 - mae: 33374.4727 - val_loss: 32534.3359 - val_mae: 32534.3359\n",
      "Epoch 188/300\n",
      "153/153 - 2s - loss: 33514.3320 - mae: 33514.3320 - val_loss: 34435.9805 - val_mae: 34435.9766\n",
      "Epoch 189/300\n",
      "153/153 - 2s - loss: 33242.1328 - mae: 33242.1289 - val_loss: 32535.4688 - val_mae: 32535.4688\n",
      "Epoch 190/300\n",
      "153/153 - 2s - loss: 33261.9609 - mae: 33261.9609 - val_loss: 33096.8594 - val_mae: 33096.8594\n",
      "Epoch 191/300\n",
      "153/153 - 2s - loss: 33349.8516 - mae: 33349.8516 - val_loss: 33193.9492 - val_mae: 33193.9492\n",
      "Epoch 192/300\n",
      "153/153 - 2s - loss: 33302.9766 - mae: 33302.9766 - val_loss: 33018.7500 - val_mae: 33018.7500\n",
      "Epoch 193/300\n",
      "153/153 - 2s - loss: 33290.4102 - mae: 33290.4102 - val_loss: 33014.7227 - val_mae: 33014.7227\n",
      "Epoch 194/300\n",
      "153/153 - 2s - loss: 33347.3125 - mae: 33347.3086 - val_loss: 32781.5156 - val_mae: 32781.5156\n",
      "Epoch 195/300\n",
      "153/153 - 2s - loss: 33200.7656 - mae: 33200.7656 - val_loss: 33279.9922 - val_mae: 33279.9922\n",
      "Epoch 196/300\n",
      "153/153 - 2s - loss: 33369.6445 - mae: 33369.6445 - val_loss: 33009.3242 - val_mae: 33009.3242\n",
      "Epoch 197/300\n",
      "153/153 - 2s - loss: 33071.2812 - mae: 33071.2812 - val_loss: 32719.0449 - val_mae: 32719.0449\n",
      "Epoch 198/300\n",
      "153/153 - 2s - loss: 33127.2070 - mae: 33127.2070 - val_loss: 32906.5430 - val_mae: 32906.5430\n",
      "Epoch 199/300\n",
      "153/153 - 2s - loss: 33204.0352 - mae: 33204.0352 - val_loss: 34251.1406 - val_mae: 34251.1406\n",
      "Epoch 200/300\n",
      "153/153 - 2s - loss: 33357.2734 - mae: 33357.2734 - val_loss: 32909.6680 - val_mae: 32909.6680\n",
      "Epoch 201/300\n",
      "153/153 - 2s - loss: 33220.4023 - mae: 33220.4023 - val_loss: 32900.6094 - val_mae: 32900.6094\n",
      "Epoch 202/300\n",
      "153/153 - 2s - loss: 33112.5117 - mae: 33112.5117 - val_loss: 33779.1797 - val_mae: 33779.1797\n",
      "Epoch 203/300\n",
      "153/153 - 2s - loss: 33281.7500 - mae: 33281.7500 - val_loss: 32945.3945 - val_mae: 32945.3945\n",
      "Epoch 204/300\n",
      "153/153 - 2s - loss: 33013.5586 - mae: 33013.5586 - val_loss: 33132.9492 - val_mae: 33132.9492\n",
      "Epoch 205/300\n",
      "153/153 - 2s - loss: 33174.2539 - mae: 33174.2500 - val_loss: 32816.0352 - val_mae: 32816.0312\n",
      "Epoch 206/300\n",
      "153/153 - 2s - loss: 33002.0859 - mae: 33002.0859 - val_loss: 32477.5410 - val_mae: 32477.5430\n",
      "Epoch 207/300\n",
      "153/153 - 2s - loss: 33134.0352 - mae: 33134.0352 - val_loss: 32692.6484 - val_mae: 32692.6484\n",
      "Epoch 208/300\n",
      "153/153 - 2s - loss: 33010.6406 - mae: 33010.6406 - val_loss: 32621.4355 - val_mae: 32621.4355\n",
      "Epoch 209/300\n",
      "153/153 - 2s - loss: 33150.5273 - mae: 33150.5273 - val_loss: 33313.0156 - val_mae: 33313.0117\n",
      "Epoch 210/300\n",
      "153/153 - 2s - loss: 33190.4023 - mae: 33190.4023 - val_loss: 32543.4570 - val_mae: 32543.4551\n",
      "Epoch 211/300\n",
      "153/153 - 2s - loss: 33018.8750 - mae: 33018.8750 - val_loss: 32782.5000 - val_mae: 32782.5000\n",
      "Epoch 212/300\n",
      "153/153 - 2s - loss: 33240.9570 - mae: 33240.9570 - val_loss: 32666.2285 - val_mae: 32666.2285\n",
      "Epoch 213/300\n",
      "153/153 - 2s - loss: 32875.5742 - mae: 32875.5742 - val_loss: 33080.3945 - val_mae: 33080.3945\n",
      "Epoch 214/300\n",
      "153/153 - 2s - loss: 32856.4727 - mae: 32856.4727 - val_loss: 32381.0645 - val_mae: 32381.0645\n",
      "Epoch 215/300\n",
      "153/153 - 2s - loss: 32891.1328 - mae: 32891.1328 - val_loss: 32291.9336 - val_mae: 32291.9336\n",
      "Epoch 216/300\n",
      "153/153 - 2s - loss: 33026.0898 - mae: 33026.0859 - val_loss: 32946.7422 - val_mae: 32946.7422\n",
      "Epoch 217/300\n",
      "153/153 - 2s - loss: 33002.9180 - mae: 33002.9180 - val_loss: 32517.5645 - val_mae: 32517.5645\n",
      "Epoch 218/300\n",
      "153/153 - 2s - loss: 32992.3555 - mae: 32992.3594 - val_loss: 32346.0566 - val_mae: 32346.0566\n",
      "Epoch 219/300\n",
      "153/153 - 2s - loss: 33002.0352 - mae: 33002.0312 - val_loss: 32374.7266 - val_mae: 32374.7266\n",
      "Epoch 220/300\n",
      "153/153 - 2s - loss: 32810.5898 - mae: 32810.5898 - val_loss: 32405.1348 - val_mae: 32405.1348\n",
      "Epoch 221/300\n",
      "153/153 - 2s - loss: 32971.1758 - mae: 32971.1758 - val_loss: 32282.5938 - val_mae: 32282.5938\n",
      "Epoch 222/300\n",
      "153/153 - 2s - loss: 32799.5625 - mae: 32799.5625 - val_loss: 33096.0586 - val_mae: 33096.0586\n",
      "Epoch 223/300\n",
      "153/153 - 2s - loss: 32797.5508 - mae: 32797.5508 - val_loss: 32948.5977 - val_mae: 32948.5977\n",
      "Epoch 224/300\n",
      "153/153 - 2s - loss: 32969.7461 - mae: 32969.7461 - val_loss: 33263.0273 - val_mae: 33263.0273\n",
      "Epoch 225/300\n",
      "153/153 - 2s - loss: 32876.9023 - mae: 32876.9062 - val_loss: 33222.4297 - val_mae: 33222.4297\n",
      "Epoch 226/300\n",
      "153/153 - 2s - loss: 32966.8320 - mae: 32966.8320 - val_loss: 32750.9473 - val_mae: 32750.9473\n",
      "Epoch 227/300\n",
      "153/153 - 2s - loss: 32784.6914 - mae: 32784.6914 - val_loss: 32754.6738 - val_mae: 32754.6680\n",
      "Epoch 228/300\n",
      "153/153 - 2s - loss: 32711.6094 - mae: 32711.6094 - val_loss: 32763.8359 - val_mae: 32763.8359\n",
      "Epoch 229/300\n",
      "153/153 - 2s - loss: 32768.3789 - mae: 32768.3789 - val_loss: 32827.4531 - val_mae: 32827.4531\n",
      "Epoch 230/300\n",
      "153/153 - 2s - loss: 32735.2207 - mae: 32735.2207 - val_loss: 32967.0156 - val_mae: 32967.0156\n",
      "Epoch 231/300\n",
      "153/153 - 2s - loss: 32890.0000 - mae: 32890.0000 - val_loss: 32605.6855 - val_mae: 32605.6875\n",
      "Epoch 232/300\n",
      "153/153 - 2s - loss: 32736.1934 - mae: 32736.1934 - val_loss: 32770.5156 - val_mae: 32770.5156\n",
      "Epoch 233/300\n",
      "153/153 - 2s - loss: 32930.1289 - mae: 32930.1289 - val_loss: 32627.3555 - val_mae: 32627.3555\n",
      "Epoch 234/300\n",
      "153/153 - 2s - loss: 32622.1465 - mae: 32622.1465 - val_loss: 32446.1992 - val_mae: 32446.1992\n",
      "Epoch 235/300\n",
      "153/153 - 2s - loss: 32885.1523 - mae: 32885.1523 - val_loss: 32868.7891 - val_mae: 32868.7969\n",
      "Epoch 236/300\n",
      "153/153 - 2s - loss: 32760.2754 - mae: 32760.2754 - val_loss: 32583.3691 - val_mae: 32583.3691\n",
      "Epoch 237/300\n",
      "153/153 - 2s - loss: 32726.6113 - mae: 32726.6113 - val_loss: 32263.0352 - val_mae: 32263.0352\n",
      "Epoch 238/300\n",
      "153/153 - 2s - loss: 32639.2051 - mae: 32639.2051 - val_loss: 32456.2168 - val_mae: 32456.2168\n",
      "Epoch 239/300\n",
      "153/153 - 2s - loss: 32836.6562 - mae: 32836.6562 - val_loss: 32846.8867 - val_mae: 32846.8867\n",
      "Epoch 240/300\n",
      "153/153 - 2s - loss: 32595.9062 - mae: 32595.9062 - val_loss: 33587.3398 - val_mae: 33587.3398\n",
      "Epoch 241/300\n",
      "153/153 - 2s - loss: 32724.3047 - mae: 32724.3047 - val_loss: 32685.4219 - val_mae: 32685.4219\n",
      "Epoch 242/300\n",
      "153/153 - 2s - loss: 32667.0000 - mae: 32667.0000 - val_loss: 32445.4277 - val_mae: 32445.4277\n",
      "Epoch 243/300\n",
      "153/153 - 2s - loss: 32751.7871 - mae: 32751.7910 - val_loss: 32486.9277 - val_mae: 32486.9277\n",
      "Epoch 244/300\n",
      "153/153 - 2s - loss: 32463.9883 - mae: 32463.9883 - val_loss: 32223.9727 - val_mae: 32223.9746\n",
      "Epoch 245/300\n",
      "153/153 - 2s - loss: 32445.2598 - mae: 32445.2598 - val_loss: 33679.3086 - val_mae: 33679.3086\n",
      "Epoch 246/300\n",
      "153/153 - 2s - loss: 32519.9961 - mae: 32519.9961 - val_loss: 32760.4922 - val_mae: 32760.4922\n",
      "Epoch 247/300\n",
      "153/153 - 2s - loss: 32699.8984 - mae: 32699.8984 - val_loss: 32690.4180 - val_mae: 32690.4180\n",
      "Epoch 248/300\n",
      "153/153 - 2s - loss: 32752.1211 - mae: 32752.1211 - val_loss: 32845.9219 - val_mae: 32845.9219\n",
      "Epoch 249/300\n",
      "153/153 - 2s - loss: 32574.9258 - mae: 32574.9258 - val_loss: 32346.8359 - val_mae: 32346.8359\n",
      "Epoch 250/300\n",
      "153/153 - 2s - loss: 32434.8613 - mae: 32434.8613 - val_loss: 32299.4277 - val_mae: 32299.4277\n",
      "Epoch 251/300\n",
      "153/153 - 2s - loss: 32740.8125 - mae: 32740.8125 - val_loss: 32664.3359 - val_mae: 32664.3359\n",
      "Epoch 252/300\n",
      "153/153 - 2s - loss: 32571.4883 - mae: 32571.4883 - val_loss: 31990.2461 - val_mae: 31990.2461\n",
      "Epoch 253/300\n",
      "153/153 - 2s - loss: 32379.1680 - mae: 32379.1680 - val_loss: 32784.1992 - val_mae: 32784.1992\n",
      "Epoch 254/300\n",
      "153/153 - 2s - loss: 32481.0703 - mae: 32481.0703 - val_loss: 32435.5254 - val_mae: 32435.5254\n",
      "Epoch 255/300\n",
      "153/153 - 2s - loss: 32453.0684 - mae: 32453.0684 - val_loss: 32849.9844 - val_mae: 32849.9805\n",
      "Epoch 256/300\n",
      "153/153 - 2s - loss: 32507.2402 - mae: 32507.2441 - val_loss: 32364.5059 - val_mae: 32364.5059\n",
      "Epoch 257/300\n",
      "153/153 - 2s - loss: 32277.3750 - mae: 32277.3750 - val_loss: 33128.2422 - val_mae: 33128.2422\n",
      "Epoch 258/300\n",
      "153/153 - 2s - loss: 32447.4551 - mae: 32447.4551 - val_loss: 32055.9473 - val_mae: 32055.9473\n",
      "Epoch 259/300\n",
      "153/153 - 2s - loss: 32326.1562 - mae: 32326.1562 - val_loss: 33412.8789 - val_mae: 33412.8789\n",
      "Epoch 260/300\n",
      "153/153 - 2s - loss: 32397.2188 - mae: 32397.2188 - val_loss: 32625.8730 - val_mae: 32625.8730\n",
      "Epoch 261/300\n",
      "153/153 - 2s - loss: 32709.6406 - mae: 32709.6406 - val_loss: 32327.8594 - val_mae: 32327.8594\n",
      "Epoch 262/300\n",
      "153/153 - 2s - loss: 32713.2188 - mae: 32713.2188 - val_loss: 32345.3105 - val_mae: 32345.3105\n",
      "Epoch 263/300\n",
      "153/153 - 2s - loss: 32382.9609 - mae: 32382.9609 - val_loss: 33015.3047 - val_mae: 33015.3047\n",
      "Epoch 264/300\n",
      "153/153 - 2s - loss: 32420.7656 - mae: 32420.7715 - val_loss: 32408.9160 - val_mae: 32408.9160\n",
      "Epoch 265/300\n",
      "153/153 - 2s - loss: 32437.7285 - mae: 32437.7285 - val_loss: 32431.5898 - val_mae: 32431.5938\n",
      "Epoch 266/300\n",
      "153/153 - 2s - loss: 32315.9258 - mae: 32315.9238 - val_loss: 32639.6289 - val_mae: 32639.6309\n",
      "Epoch 267/300\n",
      "153/153 - 2s - loss: 32225.4258 - mae: 32225.4258 - val_loss: 32240.0430 - val_mae: 32240.0430\n",
      "Epoch 268/300\n",
      "153/153 - 2s - loss: 32479.3965 - mae: 32479.3965 - val_loss: 32342.9004 - val_mae: 32342.9004\n",
      "Epoch 269/300\n",
      "153/153 - 2s - loss: 32279.8906 - mae: 32279.8906 - val_loss: 32287.2285 - val_mae: 32287.2285\n",
      "Epoch 270/300\n",
      "153/153 - 2s - loss: 32280.1699 - mae: 32280.1660 - val_loss: 32229.7246 - val_mae: 32229.7246\n",
      "Epoch 271/300\n",
      "153/153 - 2s - loss: 32281.9141 - mae: 32281.9141 - val_loss: 31998.0215 - val_mae: 31998.0215\n",
      "Epoch 272/300\n",
      "153/153 - 2s - loss: 32238.8516 - mae: 32238.8516 - val_loss: 32107.0352 - val_mae: 32107.0352\n",
      "Epoch 273/300\n",
      "153/153 - 2s - loss: 32207.1270 - mae: 32207.1270 - val_loss: 32304.0898 - val_mae: 32304.0898\n",
      "Epoch 274/300\n",
      "153/153 - 2s - loss: 32315.9941 - mae: 32315.9941 - val_loss: 32178.2988 - val_mae: 32178.2988\n",
      "Epoch 275/300\n",
      "153/153 - 2s - loss: 32343.5215 - mae: 32343.5215 - val_loss: 32335.8301 - val_mae: 32335.8320\n",
      "Epoch 276/300\n",
      "153/153 - 2s - loss: 32411.2461 - mae: 32411.2461 - val_loss: 32547.8047 - val_mae: 32547.8047\n",
      "Epoch 277/300\n",
      "153/153 - 2s - loss: 32345.2773 - mae: 32345.2773 - val_loss: 32504.5605 - val_mae: 32504.5605\n",
      "Epoch 278/300\n",
      "153/153 - 2s - loss: 32359.9883 - mae: 32359.9883 - val_loss: 32230.2109 - val_mae: 32230.2109\n",
      "Epoch 279/300\n",
      "153/153 - 2s - loss: 32359.2637 - mae: 32359.2637 - val_loss: 32050.2422 - val_mae: 32050.2422\n",
      "Epoch 280/300\n",
      "153/153 - 2s - loss: 32396.6250 - mae: 32396.6270 - val_loss: 32316.5723 - val_mae: 32316.5723\n",
      "Epoch 281/300\n",
      "153/153 - 2s - loss: 32360.8809 - mae: 32360.8809 - val_loss: 32261.3906 - val_mae: 32261.3926\n",
      "Epoch 282/300\n",
      "153/153 - 2s - loss: 32176.1230 - mae: 32176.1230 - val_loss: 32709.5742 - val_mae: 32709.5742\n",
      "Epoch 283/300\n",
      "153/153 - 2s - loss: 32288.5820 - mae: 32288.5820 - val_loss: 32409.2676 - val_mae: 32409.2676\n",
      "Epoch 284/300\n",
      "153/153 - 2s - loss: 32299.4414 - mae: 32299.4414 - val_loss: 32324.7656 - val_mae: 32324.7656\n",
      "Epoch 285/300\n",
      "153/153 - 2s - loss: 32168.6367 - mae: 32168.6367 - val_loss: 32746.6191 - val_mae: 32746.6172\n",
      "Epoch 286/300\n",
      "153/153 - 2s - loss: 32059.5742 - mae: 32059.5742 - val_loss: 32043.7832 - val_mae: 32043.7832\n",
      "Epoch 287/300\n",
      "153/153 - 2s - loss: 32102.0703 - mae: 32102.0703 - val_loss: 32788.0664 - val_mae: 32788.0664\n",
      "Epoch 288/300\n",
      "153/153 - 2s - loss: 32224.3281 - mae: 32224.3281 - val_loss: 32048.9629 - val_mae: 32048.9609\n",
      "Epoch 289/300\n",
      "153/153 - 2s - loss: 31828.0176 - mae: 31828.0176 - val_loss: 32244.0273 - val_mae: 32244.0273\n",
      "Epoch 290/300\n",
      "153/153 - 2s - loss: 32170.0117 - mae: 32170.0117 - val_loss: 32094.9082 - val_mae: 32094.9082\n",
      "Epoch 291/300\n",
      "153/153 - 2s - loss: 31787.7656 - mae: 31787.7656 - val_loss: 32242.4004 - val_mae: 32242.4004\n",
      "Epoch 292/300\n",
      "153/153 - 2s - loss: 31926.3262 - mae: 31926.3262 - val_loss: 32319.0586 - val_mae: 32319.0586\n",
      "Epoch 293/300\n",
      "153/153 - 2s - loss: 32079.8418 - mae: 32079.8418 - val_loss: 32153.5137 - val_mae: 32153.5137\n",
      "Epoch 294/300\n",
      "153/153 - 2s - loss: 31854.0918 - mae: 31854.0918 - val_loss: 31801.7773 - val_mae: 31801.7773\n",
      "Epoch 295/300\n",
      "153/153 - 2s - loss: 31905.0996 - mae: 31905.0996 - val_loss: 32736.8047 - val_mae: 32736.8047\n",
      "Epoch 296/300\n",
      "153/153 - 2s - loss: 32175.1992 - mae: 32175.2012 - val_loss: 32207.3633 - val_mae: 32207.3594\n",
      "Epoch 297/300\n",
      "153/153 - 2s - loss: 32006.5156 - mae: 32006.5156 - val_loss: 32460.1367 - val_mae: 32460.1367\n",
      "Epoch 298/300\n",
      "153/153 - 2s - loss: 32056.2637 - mae: 32056.2637 - val_loss: 32440.4277 - val_mae: 32440.4258\n",
      "Epoch 299/300\n",
      "153/153 - 2s - loss: 31954.3926 - mae: 31954.3965 - val_loss: 31971.4160 - val_mae: 31971.4141\n",
      "Epoch 300/300\n",
      "153/153 - 2s - loss: 31954.0742 - mae: 31954.0762 - val_loss: 31642.3008 - val_mae: 31642.3008\n"
     ]
    }
   ],
   "source": [
    "history = model.fit(x_train, \n",
    "                    y_train,\n",
    "                    batch_size=100,\n",
    "                    epochs=300,\n",
    "                    validation_split=0.1, \n",
    "                    verbose=2)"
   ]
  },
  {
   "cell_type": "markdown",
   "metadata": {
    "papermill": {
     "duration": 0.252082,
     "end_time": "2024-03-07T16:52:35.636539",
     "exception": false,
     "start_time": "2024-03-07T16:52:35.384457",
     "status": "completed"
    },
    "tags": []
   },
   "source": [
    "## Визуализация качества обучения"
   ]
  },
  {
   "cell_type": "code",
   "execution_count": 13,
   "metadata": {
    "execution": {
     "iopub.execute_input": "2024-03-07T16:52:36.144412Z",
     "iopub.status.busy": "2024-03-07T16:52:36.143365Z",
     "iopub.status.idle": "2024-03-07T16:52:36.411334Z",
     "shell.execute_reply": "2024-03-07T16:52:36.410539Z"
    },
    "papermill": {
     "duration": 0.521204,
     "end_time": "2024-03-07T16:52:36.411511",
     "exception": false,
     "start_time": "2024-03-07T16:52:35.890307",
     "status": "completed"
    },
    "tags": []
   },
   "outputs": [
    {
     "data": {
      "image/png": "[encoded data removed]",
      "text/plain": [
       "<Figure size 432x288 with 1 Axes>"
      ]
     },
     "metadata": {
      "needs_background": "light"
     },
     "output_type": "display_data"
    }
   ],
   "source": [
    "plt.plot(history.history['mae'], \n",
    "         label='Средняя абсолютная ошибка на обучающем наборе')\n",
    "plt.plot(history.history['val_mae'], \n",
    "         label='Средняя абсолютная ошибка на проверочном наборе')\n",
    "plt.xlabel('Эпоха обучения')\n",
    "plt.ylabel('Средняя абсолютная ошибка')\n",
    "plt.legend()\n",
    "plt.show()"
   ]
  },
  {
   "cell_type": "markdown",
   "metadata": {
    "papermill": {
     "duration": 0.256688,
     "end_time": "2024-03-07T16:52:36.924443",
     "exception": false,
     "start_time": "2024-03-07T16:52:36.667755",
     "status": "completed"
    },
    "tags": []
   },
   "source": [
    "## Готовим данные для теста на liderboard"
   ]
  },
  {
   "cell_type": "markdown",
   "metadata": {
    "papermill": {
     "duration": 0.252266,
     "end_time": "2024-03-07T16:52:37.430846",
     "exception": false,
     "start_time": "2024-03-07T16:52:37.178580",
     "status": "completed"
    },
    "tags": []
   },
   "source": [
    "Делаем предсказания на тестовом наборе данных"
   ]
  },
  {
   "cell_type": "code",
   "execution_count": 14,
   "metadata": {
    "execution": {
     "iopub.execute_input": "2024-03-07T16:52:37.964942Z",
     "iopub.status.busy": "2024-03-07T16:52:37.964098Z",
     "iopub.status.idle": "2024-03-07T16:52:38.280648Z",
     "shell.execute_reply": "2024-03-07T16:52:38.279562Z"
    },
    "papermill": {
     "duration": 0.594985,
     "end_time": "2024-03-07T16:52:38.280834",
     "exception": false,
     "start_time": "2024-03-07T16:52:37.685849",
     "status": "completed"
    },
    "tags": []
   },
   "outputs": [
    {
     "data": {
      "text/plain": [
       "array([[ 59209.727],\n",
       "       [ 68110.414],\n",
       "       [ 65453.285],\n",
       "       ...,\n",
       "       [285989.28 ],\n",
       "       [ 70272.37 ],\n",
       "       [108070.61 ]], dtype=float32)"
      ]
     },
     "execution_count": 14,
     "metadata": {},
     "output_type": "execute_result"
    }
   ],
   "source": [
    "\"\"\"делаем предсказания по всем тестовым данным\"\"\"\n",
    "predictions = model.predict(x_test)\n",
    "predictions"
   ]
  },
  {
   "cell_type": "markdown",
   "metadata": {
    "papermill": {
     "duration": 0.254156,
     "end_time": "2024-03-07T16:52:38.791750",
     "exception": false,
     "start_time": "2024-03-07T16:52:38.537594",
     "status": "completed"
    },
    "tags": []
   },
   "source": [
    "Пишем результаты предсказаний в шаблон \"sample_submission\""
   ]
  },
  {
   "cell_type": "code",
   "execution_count": 15,
   "metadata": {
    "execution": {
     "iopub.execute_input": "2024-03-07T16:52:39.310631Z",
     "iopub.status.busy": "2024-03-07T16:52:39.309805Z",
     "iopub.status.idle": "2024-03-07T16:52:39.314087Z",
     "shell.execute_reply": "2024-03-07T16:52:39.313477Z"
    },
    "papermill": {
     "duration": 0.26429,
     "end_time": "2024-03-07T16:52:39.314284",
     "exception": false,
     "start_time": "2024-03-07T16:52:39.049994",
     "status": "completed"
    },
    "tags": []
   },
   "outputs": [],
   "source": [
    "\"\"\"используем файл с правильным шаблоном формата записи ответов и пишем в него наши предсказания\"\"\"\n",
    "sample_submission['median_house_value'] = predictions"
   ]
  },
  {
   "cell_type": "markdown",
   "metadata": {
    "papermill": {
     "duration": 0.255012,
     "end_time": "2024-03-07T16:52:39.825409",
     "exception": false,
     "start_time": "2024-03-07T16:52:39.570397",
     "status": "completed"
    },
    "tags": []
   },
   "source": [
    "Записываем ответы для проверки на liderboard"
   ]
  },
  {
   "cell_type": "code",
   "execution_count": 16,
   "metadata": {
    "execution": {
     "iopub.execute_input": "2024-03-07T16:52:40.343149Z",
     "iopub.status.busy": "2024-03-07T16:52:40.342303Z",
     "iopub.status.idle": "2024-03-07T16:52:40.361816Z",
     "shell.execute_reply": "2024-03-07T16:52:40.360919Z"
    },
    "papermill": {
     "duration": 0.27957,
     "end_time": "2024-03-07T16:52:40.361994",
     "exception": false,
     "start_time": "2024-03-07T16:52:40.082424",
     "status": "completed"
    },
    "tags": []
   },
   "outputs": [],
   "source": [
    "\"\"\"to_csv - пишет табличные данные в файл '.csv' \"\"\"\n",
    "sample_submission.to_csv('sample_submission.csv')"
   ]
  }
 ],
 "metadata": {
  "kaggle": {
   "accelerator": "gpu",
   "dataSources": [
    {
     "databundleVersionId": 2011202,
     "sourceId": 26092,
     "sourceType": "competition"
    }
   ],
   "dockerImageVersionId": 30066,
   "isGpuEnabled": true,
   "isInternetEnabled": false,
   "language": "python",
   "sourceType": "notebook"
  },
  "kernelspec": {
   "display_name": "Python 3",
   "language": "python",
   "name": "python3"
  },
  "language_info": {
   "codemirror_mode": {
    "name": "ipython",
    "version": 3
   },
   "file_extension": ".py",
   "mimetype": "text/x-python",
   "name": "python",
   "nbconvert_exporter": "python",
   "pygments_lexer": "ipython3",
   "version": "3.7.9"
  },
  "papermill": {
   "default_parameters": {},
   "duration": 551.292547,
   "end_time": "2024-03-07T16:52:42.743355",
   "environment_variables": {},
   "exception": null,
   "input_path": "__notebook__.ipynb",
   "output_path": "__notebook__.ipynb",
   "parameters": {},
   "start_time": "2024-03-07T16:43:31.450808",
   "version": "2.2.2"
  }
 },
 "nbformat": 4,
 "nbformat_minor": 4
}
